{
 "cells": [
  {
   "cell_type": "markdown",
   "metadata": {},
   "source": [
    "# Clasificador por distancia euclidiana\n",
    "## Paso 1 - importamos librerias necesarias \n",
    "- Pandas -> manejo de datos (dataframes, read csv)\n",
    "- Seaborn -> graficacion de los datos"
   ]
  },
  {
   "cell_type": "code",
   "execution_count": 1,
   "metadata": {},
   "outputs": [],
   "source": [
    "import pandas as pd\n",
    "import seaborn as sns"
   ]
  },
  {
   "cell_type": "markdown",
   "metadata": {},
   "source": [
    "## Paso 2 - creacion del calsificador por distancia euclidiana\n",
    "- Generamos las funciones que comprendedran el clasificador "
   ]
  },
  {
   "cell_type": "code",
   "execution_count": 2,
   "metadata": {},
   "outputs": [],
   "source": [
    "class Cmodel():\n",
    "    def __init__(self, data, sample):\n",
    "        self.data = pd.read_csv(data)\n",
    "        self.data = self.data.dropna()\n",
    "        self.data = self.data.drop_duplicates()\n",
    "        self.distance = pd.DataFrame(columns=['id','distance','Tipo'])\n",
    "        self.sample = pd.read_csv(sample)\n",
    "\n",
    "    @staticmethod\n",
    "    def get_Edistance(sample_point_x, data_point_x, sample_point_y, data_point_y):\n",
    "        return ((sample_point_x - data_point_x)**2 + (sample_point_y - data_point_y)**2)**0.5\n",
    "    \n",
    "    def clasification(self, sample_point_x, sample_point_y):\n",
    "        for i in range(len(self.data)):\n",
    "            self.distance.loc[i] = [self.data.iloc[i,0], Cmodel.get_Edistance(sample_point_x, self.data.iloc[i,1], sample_point_y, self.data.iloc[i,2]) , self.data.iloc[i,3]]\n",
    "        self.distance = self.distance.sort_values(by='distance')\n",
    "        return self.distance['Tipo'].iloc[0]\n",
    "    \n",
    "    def run(self):\n",
    "        id_point = int(input('Enter the id of the item to clasify: '))\n",
    "        sample_point_x = self.sample['Dulce'].iloc[id_point]\n",
    "        sample_point_y = self.sample['Crujiente'].iloc[id_point]\n",
    "        sample_item = self.sample['Nombre'].iloc[id_point]\n",
    "        sample_class = self.clasification(sample_point_x, sample_point_y)\n",
    "        print(f'The class of the item {sample_item} is: {sample_class}')"
   ]
  },
  {
   "cell_type": "markdown",
   "metadata": {},
   "source": [
    "# Paso 3 - Pruebas\n",
    "- Init the object to load files"
   ]
  },
  {
   "cell_type": "code",
   "execution_count": 3,
   "metadata": {},
   "outputs": [],
   "source": [
    "test = Cmodel('./data.csv', './sample.csv')"
   ]
  },
  {
   "cell_type": "markdown",
   "metadata": {},
   "source": [
    "- Run the clasification to se how it works"
   ]
  },
  {
   "cell_type": "code",
   "execution_count": 4,
   "metadata": {},
   "outputs": [
    {
     "name": "stdout",
     "output_type": "stream",
     "text": [
      "The class of the item V8 Splash Strawberry Kiwi is: Poaceae\n"
     ]
    }
   ],
   "source": [
    "test.run()"
   ]
  },
  {
   "cell_type": "code",
   "execution_count": 5,
   "metadata": {},
   "outputs": [
    {
     "data": {
      "text/html": [
       "<div>\n",
       "<style scoped>\n",
       "    .dataframe tbody tr th:only-of-type {\n",
       "        vertical-align: middle;\n",
       "    }\n",
       "\n",
       "    .dataframe tbody tr th {\n",
       "        vertical-align: top;\n",
       "    }\n",
       "\n",
       "    .dataframe thead th {\n",
       "        text-align: right;\n",
       "    }\n",
       "</style>\n",
       "<table border=\"1\" class=\"dataframe\">\n",
       "  <thead>\n",
       "    <tr style=\"text-align: right;\">\n",
       "      <th></th>\n",
       "      <th>id</th>\n",
       "      <th>distance</th>\n",
       "      <th>Tipo</th>\n",
       "    </tr>\n",
       "  </thead>\n",
       "  <tbody>\n",
       "    <tr>\n",
       "      <th>573</th>\n",
       "      <td>Wine - Maipo Valle Cabernet</td>\n",
       "      <td>1.000000</td>\n",
       "      <td>Poaceae</td>\n",
       "    </tr>\n",
       "    <tr>\n",
       "      <th>6</th>\n",
       "      <td>Jam - Raspberry</td>\n",
       "      <td>2.236068</td>\n",
       "      <td>Rubiaceae</td>\n",
       "    </tr>\n",
       "    <tr>\n",
       "      <th>913</th>\n",
       "      <td>Flour - So Mix Cake White</td>\n",
       "      <td>3.000000</td>\n",
       "      <td>Blechnaceae</td>\n",
       "    </tr>\n",
       "    <tr>\n",
       "      <th>245</th>\n",
       "      <td>Roe - Lump Fish, Red</td>\n",
       "      <td>3.162278</td>\n",
       "      <td>Cunoniaceae</td>\n",
       "    </tr>\n",
       "    <tr>\n",
       "      <th>477</th>\n",
       "      <td>Potatoes - Idaho 100 Count</td>\n",
       "      <td>4.472136</td>\n",
       "      <td>Boraginaceae</td>\n",
       "    </tr>\n",
       "  </tbody>\n",
       "</table>\n",
       "</div>"
      ],
      "text/plain": [
       "                              id  distance          Tipo\n",
       "573  Wine - Maipo Valle Cabernet  1.000000       Poaceae\n",
       "6                Jam - Raspberry  2.236068     Rubiaceae\n",
       "913    Flour - So Mix Cake White  3.000000   Blechnaceae\n",
       "245         Roe - Lump Fish, Red  3.162278   Cunoniaceae\n",
       "477   Potatoes - Idaho 100 Count  4.472136  Boraginaceae"
      ]
     },
     "execution_count": 5,
     "metadata": {},
     "output_type": "execute_result"
    }
   ],
   "source": [
    "test.distance.head()"
   ]
  }
 ],
 "metadata": {
  "kernelspec": {
   "display_name": "base",
   "language": "python",
   "name": "python3"
  },
  "language_info": {
   "codemirror_mode": {
    "name": "ipython",
    "version": 3
   },
   "file_extension": ".py",
   "mimetype": "text/x-python",
   "name": "python",
   "nbconvert_exporter": "python",
   "pygments_lexer": "ipython3",
   "version": "3.12.4"
  }
 },
 "nbformat": 4,
 "nbformat_minor": 2
}
