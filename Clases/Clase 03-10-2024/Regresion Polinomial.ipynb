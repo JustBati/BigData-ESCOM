{
 "cells": [
  {
   "cell_type": "markdown",
   "metadata": {},
   "source": [
    "# Regresion Polinomial"
   ]
  },
  {
   "cell_type": "markdown",
   "metadata": {},
   "source": [
    "-  Esta ecuaciones conforman una matriz la cual tiene que ser resuelta mediante metodos como Gauss Jordan "
   ]
  },
  {
   "cell_type": "markdown",
   "metadata": {},
   "source": [
    "$$\n",
    "\\sum Y = a \\sum x^2 + b \\sum x  + C(n)\n",
    "$$"
   ]
  },
  {
   "cell_type": "markdown",
   "metadata": {},
   "source": [
    "$$\n",
    "\\sum XY = a \\sum x^3 + b \\sum x^2 + C \\sum x\n",
    "$$"
   ]
  },
  {
   "cell_type": "markdown",
   "metadata": {},
   "source": [
    "$$\n",
    "\\sum X^2 Y = a \\sum x^4 + b \\sum x^3 + C \\sum x^2\n",
    "$$"
   ]
  },
  {
   "cell_type": "markdown",
   "metadata": {},
   "source": [
    "- Al tener este conjunto de ecuaciones se resuelve mediante matrices para encontrar los coeficientes de \n",
    "$$\n",
    "1) a \\\\ \n",
    "2) b \\\\\n",
    "3) C \\\\\n",
    "$$"
   ]
  },
  {
   "cell_type": "markdown",
   "metadata": {},
   "source": [
    "- Al tener estas variables se remplazan en la funcion final para ser utilizada y crear predicciones de los datos"
   ]
  },
  {
   "cell_type": "markdown",
   "metadata": {},
   "source": [
    "$$\n",
    "Y = ax^2 + bx + C\n",
    "$$"
   ]
  }
 ],
 "metadata": {
  "language_info": {
   "name": "python"
  }
 },
 "nbformat": 4,
 "nbformat_minor": 2
}
