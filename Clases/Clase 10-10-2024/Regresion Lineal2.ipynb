{
 "cells": [
  {
   "cell_type": "markdown",
   "metadata": {},
   "source": [
    "# Linear Regression in PySpark"
   ]
  },
  {
   "cell_type": "markdown",
   "metadata": {},
   "source": [
    "- Las librerias de ML dentro de Pyspark no funcionan mediante *rdd*, si no mediante su propio tipo de vector especializado para ML  como lo hace el metodo *VectorAssembler*\n",
    "- Los vectores son de uso unico, es decir, una vez declarados solo se pueden utilizar para lo que fueron creados\n"
   ]
  },
  {
   "cell_type": "code",
   "execution_count": null,
   "metadata": {},
   "outputs": [],
   "source": [
    "df =  spark.ContextDataFrame(data, columns)\n",
    "assembler =  VectorAssembler(inputCols = \"ValueX_in\", outputCOl= \"ValueX_out\")"
   ]
  },
  {
   "cell_type": "markdown",
   "metadata": {},
   "source": [
    "- Una vez creado el vector de tipo especial, se requiere convertir en un *dataframe vectorizado* "
   ]
  },
  {
   "cell_type": "code",
   "execution_count": null,
   "metadata": {},
   "outputs": [],
   "source": [
    "vectorized_df = assembler.trasnform(df)"
   ]
  },
  {
   "cell_type": "markdown",
   "metadata": {},
   "source": [
    "- Mediante el metodo *.show* mostramos el contenio de nuestro DF, seleccionando las columnas de interes"
   ]
  },
  {
   "cell_type": "code",
   "execution_count": null,
   "metadata": {},
   "outputs": [],
   "source": [
    "vectorized_df.select(columns_names).show"
   ]
  },
  {
   "cell_type": "markdown",
   "metadata": {},
   "source": [
    "- Para utilizar un modelo de ML, en este caso un modelo de* regresion lineal*, se tiene que declarar junto con lo que seria sus variables de entradas y salidas"
   ]
  },
  {
   "cell_type": "code",
   "execution_count": null,
   "metadata": {},
   "outputs": [],
   "source": [
    "lr = LinearRegression( featuresCol = \"ValueX_out\", labelCol=\"ValorY\")"
   ]
  },
  {
   "cell_type": "markdown",
   "metadata": {},
   "source": [
    "- Una vez creado el metodo, se tiene que alimentar el modelo, *hacer fit con los datos*"
   ]
  },
  {
   "cell_type": "code",
   "execution_count": null,
   "metadata": {},
   "outputs": [],
   "source": [
    "lr_model = lr.fit(vectorized_df)"
   ]
  },
  {
   "cell_type": "markdown",
   "metadata": {},
   "source": [
    "- Una vez entrenado el modelo, podemos obtener cuales serian las variables del mismo, es decir, los coeficientes requeridos para poder extrapolar el modelo de manera sencilla, en este caso serian los coeficientes **a** y ***b***"
   ]
  },
  {
   "cell_type": "markdown",
   "metadata": {},
   "source": [
    "$$\n",
    "Y = a + bx\n",
    "$$"
   ]
  },
  {
   "cell_type": "code",
   "execution_count": null,
   "metadata": {},
   "outputs": [],
   "source": [
    "print(f\"Coeficiente:\\t{lr.coefficients}\") #a\n",
    "print(f\"Interceptor:\\t{lr.interceptor}\") # b"
   ]
  },
  {
   "cell_type": "markdown",
   "metadata": {},
   "source": [
    "- Para obtener los valores de la preiccion se tiene que transformar, o hacer los calculos con el *dataframe vectorizado objetivo*"
   ]
  },
  {
   "cell_type": "code",
   "execution_count": null,
   "metadata": {},
   "outputs": [],
   "source": [
    "predictions = lr_model.transform(vectorized_df)"
   ]
  }
 ],
 "metadata": {
  "kernelspec": {
   "display_name": "Python 3",
   "language": "python",
   "name": "python3"
  },
  "language_info": {
   "codemirror_mode": {
    "name": "ipython",
    "version": 3
   },
   "file_extension": ".py",
   "mimetype": "text/x-python",
   "name": "python",
   "nbconvert_exporter": "python",
   "pygments_lexer": "ipython3",
   "version": "3.12.7"
  }
 },
 "nbformat": 4,
 "nbformat_minor": 2
}
