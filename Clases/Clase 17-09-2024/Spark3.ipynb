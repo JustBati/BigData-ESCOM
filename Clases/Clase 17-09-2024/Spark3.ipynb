{
 "cells": [
  {
   "cell_type": "markdown",
   "metadata": {},
   "source": [
    "# Spark 101"
   ]
  },
  {
   "cell_type": "code",
   "execution_count": 1,
   "metadata": {},
   "outputs": [],
   "source": [
    "from pyspark import SparkContext"
   ]
  },
  {
   "cell_type": "markdown",
   "metadata": {},
   "source": [
    "- PySpark admite computo en paralelo inclusive desde ambientes locales\n",
    "- Donde el numero entre *local[n]* donde *n* es el numero de procesadores, nucleos a utilizar para el procesamiento de los datos\n",
    "- En caso de no conocer el numero de procesadores, nucles a utilizar, se puede sustituir *[n]* por *[*]* de tal manera se asginas los nucleos posibles de manera automatica\n",
    "- La cantidad de nucleos a ocupar tiene que ser la mitad de los procesadores existentes en el equipo"
   ]
  },
  {
   "cell_type": "code",
   "execution_count": null,
   "metadata": {},
   "outputs": [],
   "source": [
    "contexto_4 = SparkContext(\"local[4]\",\"PRUEBA4\")\n",
    "contexto_n = SparkContext(\"local[*]\",\"PRUEBAn\")"
   ]
  },
  {
   "cell_type": "markdown",
   "metadata": {},
   "source": [
    "- Al momento de declarar un vector, se pueden dividir los vectoresyu datos entre los nucleos/procesadores existentes con el comando de *numSlices= n* donde *n* es la cantidad de fragmentaciones que sufirira los datos"
   ]
  },
  {
   "cell_type": "code",
   "execution_count": null,
   "metadata": {},
   "outputs": [],
   "source": [
    "rdd1 = contexto_n.parallelize(range(1,100000000000000000), numSlices=4)"
   ]
  },
  {
   "cell_type": "markdown",
   "metadata": {},
   "source": []
  }
 ],
 "metadata": {
  "kernelspec": {
   "display_name": "pyspark_env",
   "language": "python",
   "name": "python3"
  },
  "language_info": {
   "codemirror_mode": {
    "name": "ipython",
    "version": 3
   },
   "file_extension": ".py",
   "mimetype": "text/x-python",
   "name": "python",
   "nbconvert_exporter": "python",
   "pygments_lexer": "ipython3",
   "version": "3.9.19"
  }
 },
 "nbformat": 4,
 "nbformat_minor": 2
}
