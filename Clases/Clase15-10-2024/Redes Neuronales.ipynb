{
 "cells": [
  {
   "cell_type": "markdown",
   "metadata": {},
   "source": [
    "# Redes neuronales 101\n",
    "- Para el entendimiento del funcionamiento de este modelo va a partir del funcionamiento individual e individual de las *neuronas*\n",
    "- En cada red neuronal existen diferentes *capas de procesamiento* siendo estas\n",
    "    - Capa de entrada, es dependiende de la informacion a analizar\n",
    "    - Capa intermedia, capa de operaciones entre *neuronas y pesos* \n",
    "    - Capa de salida, clasifica aquello que entro segun parametros\n"
   ]
  },
  {
   "cell_type": "markdown",
   "metadata": {},
   "source": [
    "- Para el entrenamiento de un modelo de redes neuronales se requiere que el set de entrenamiento cuente con una gran cantidad de datos previamente clasificados o definidos\n"
   ]
  }
 ],
 "metadata": {
  "language_info": {
   "name": "python"
  }
 },
 "nbformat": 4,
 "nbformat_minor": 2
}
