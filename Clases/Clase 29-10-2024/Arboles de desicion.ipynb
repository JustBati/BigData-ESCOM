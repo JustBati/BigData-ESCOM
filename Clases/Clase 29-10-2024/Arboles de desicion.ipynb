{
 "cells": [
  {
   "cell_type": "markdown",
   "metadata": {},
   "source": [
    "# Desition trees 101\n",
    "- La variable de este tipo de algoritmo a utilizar en el curso sera la de tipo *CART*\n",
    "-  Consiste en trazar lineas para crear una *frontera* la cual va a diferenciar los tipos de poblacion\n",
    "- El trazado de lineas tiene que ser solamente horizontales o verticales"
   ]
  },
  {
   "cell_type": "markdown",
   "metadata": {},
   "source": [
    "- Una manera de iniciar el trazado de la frontera es iniciar entre el punto medio de el ultimo elemento de una poblacion vs el primero de otra poblacion sobre un eje\n",
    "- Para poder dicernir cual es el mejor particion par la creacion de la frontera se utiliza el *calculo de pureza de Gennie*\n",
    "- El discriminante para escoger cual seria la inecuacion/regla que cree la frontera en el mapa es mediante la seleccion del menor resultante del *calculo de pureza de Gennie*\n",
    "- Al crear estas fronteras se crean fronteras logicas o condicionantes, las cuales generan las las condiciones para los nodos del arbol de desicion"
   ]
  }
 ],
 "metadata": {
  "language_info": {
   "name": "python"
  }
 },
 "nbformat": 4,
 "nbformat_minor": 2
}
