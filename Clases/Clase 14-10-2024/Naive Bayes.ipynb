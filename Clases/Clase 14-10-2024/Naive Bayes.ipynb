{
 "cells": [
  {
   "cell_type": "markdown",
   "metadata": {},
   "source": [
    "# Naive Bayes\n",
    "- Es un modelo de clasificacion orientado a palabras, a texto y no a numeros\n",
    "- Funciona mediante el teorema de Bayes y estadistica \n",
    "- Utiliza REGEX para poder ubicar cada una de las variantes de las *palabras* \n",
    "----"
   ]
  },
  {
   "cell_type": "markdown",
   "metadata": {},
   "source": [
    "- Data\n",
    "\n",
    "| Escalofrios     | Escurrimiento nasal      | Dolor de cabeza | Fiebre | Gripa|\n",
    "| ------------------- | -------------------- | ------------------- | ------------------- | ------------------- |\n",
    "| Si | No | Medio  | Si | Si |\n",
    "| Si | Si | No     | No | No |\n",
    "| Si | No | Fuerte | Si | Si |\n",
    "| No | Si | Medio  | Si | No |\n",
    "| No | No | No     | No | No |\n",
    "| No | Si | Fuerte | Si | Si |\n",
    "| No | Si | Fuerte | No | No |\n",
    "| Si | Si | Medio  | Si | Si |"
   ]
  },
  {
   "cell_type": "markdown",
   "metadata": {},
   "source": [
    "- Se obtienen las probabilidades dependiendo de la *data* de entrenamiento teniendo asi la primer lista de probabilidades simples\n",
    "$$\n",
    "\\newcommand{\\probP}{\\mathbb{P}}\n",
    "$$"
   ]
  },
  {
   "cell_type": "markdown",
   "metadata": {},
   "source": [
    "$$\n",
    "\\begin{aligned}\n",
    "\\probP(\\text{gripe} = \\text{sí}) &= \\frac{5}{8} \\\\\n",
    "\\probP(\\text{gripe} = \\text{no}) &= \\frac{3}{8} \\\\\n",
    "\\probP(\\text{fiebre} = \\text{sí}) &= \\frac{5}{8} \\\\\n",
    "\\probP(\\text{fiebre} = \\text{no}) &= \\frac{3}{8} \\\\\n",
    "\\probP(\\text{Dolor\\_cabeza} = \\text{medio}) &= \\frac{3}{8} \\\\\n",
    "\\probP(\\text{Dolor\\_cabeza} = \\text{fuerte}) &= \\frac{3}{8} \\\\\n",
    "\\probP(\\text{Dolor\\_cabeza} = \\text{no}) &= \\frac{2}{8} \\\\\n",
    "\\probP(\\text{escurrimiento} = \\text{sí}) &= \\frac{5}{8} \\\\\n",
    "\\probP(\\text{escurrimiento} = \\text{no}) &= \\frac{3}{8} \\\\\n",
    "\\probP(\\text{escalofrío} = \\text{sí}) &= \\frac{4}{8} \\\\\n",
    "\\probP(\\text{escalofrío} = \\text{no}) &= \\frac{4}{8}\n",
    "\\end{aligned}\n",
    "$$\n"
   ]
  },
  {
   "cell_type": "markdown",
   "metadata": {},
   "source": [
    "$$\n",
    "\\begin{aligned}\n",
    "Probabilidad -> \\text{Si tenga gripa }\\\\\n",
    "\\probP(\\text{Cabeza:Fuerte | No}) &= \\frac{2}{3} \\\\\n",
    "\\probP(\\text{Cabeza:Medio | Si}) &= \\frac{2}{3} \\\\\n",
    "\\probP(\\text{Cabeza:No | Si}) &= \\frac{1}{2} \\\\\n",
    "\\probP(\\text{Escalofrios:Si | Si}) &= \\frac{3}{4} \\\\\n",
    "\\probP(\\text{Escalofrios:No | Si}) &= \\frac{2}{4} \\\\\n",
    "\\probP(\\text{Esc. Nasal:Si | Si}) &= \\frac{4}{5} \\\\\n",
    "\\probP(\\text{Esc. Nasal:No | Si}) &= \\frac{1}{3} \\\\\n",
    "\\probP(\\text{Fiebre:Si | Si}) &= \\frac{4}{5} \\\\\n",
    "\\probP(\\text{Fiebre:No | Si}) &= \\frac{1}{3} \\\\\n",
    "\n",
    "\n",
    "Probabilidad -> \\text{No tenga gripa }\\\\\n",
    "\n",
    "\\probP(\\text{Cabeza:Fuerte | No}) &= \\frac{1}{3} \\\\\n",
    "\\probP(\\text{Cabeza:Medio | No}) &= \\frac{1}{3} \\\\\n",
    "\\probP(\\text{Cabeza:No | No}) &= \\frac{1}{2} \\\\\n",
    "\\probP(\\text{Escalofrios:Si | No}) &= \\frac{1}{4} \\\\\n",
    "\\probP(\\text{Escalofrios:No | No}) &= \\frac{2}{4} \\\\\n",
    "\\probP(\\text{Esc. Nasal:Si | No}) &= \\frac{1}{5} \\\\\n",
    "\\probP(\\text{Esc. Nasal:No | No}) &= \\frac{2}{3} \\\\\n",
    "\\probP(\\text{Fiebre:Si | No}) &= \\frac{1}{5} \\\\\n",
    "\\probP(\\text{Fiebre:No | No}) &= \\frac{2}{3} \\\\\n",
    "\n",
    "\n",
    "\\end{aligned}\n",
    "$$\n"
   ]
  },
  {
   "cell_type": "markdown",
   "metadata": {},
   "source": [
    "- Sample\n",
    "\n",
    "| Escalofrios     | Escurrimiento nasal      | Dolor de cabeza | Fiebre | Gripa|\n",
    "| ------------------- | -------------------- | ------------------- | ------------------- | ------------------- |\n",
    "| 3.9  | 2.4 | 3 | 0 | ? |\n",
    "\n"
   ]
  },
  {
   "cell_type": "markdown",
   "metadata": {},
   "source": [
    "- Para poder clasificar la muestra obtenida se tiene que encontrar la probabilidad de que sea algo mediante el calculo de las probabilidades previamente obtenidas\n",
    "- La formula para el calculo seria la siguiente"
   ]
  },
  {
   "cell_type": "markdown",
   "metadata": {},
   "source": [
    "$$\n",
    "\\text{Probabilidad positiva} = \\mathbb{P}(\\text{objetivo: Verdadero}) \\times \\left( \\mathbb{P}(\\text{condicionante}_1 = \\text{Valor}_n \\mid \\text{Objetivo: Verdadero}) \\times \\cdots \\times \\mathbb{P}(\\text{condicionante}_N = \\text{Valor}_n \\mid \\text{Objetivo: Verdadero}) \\right) \\\\\n",
    "\\text{Probabilidad negativa} = \\mathbb{P}(\\text{objetivo: Falso}) \\times \\left( \\mathbb{P}(\\text{condicionante}_1 = \\text{Valor}_n \\mid \\text{Objetivo: Falso}) \\times \\cdots \\times \\mathbb{P}(\\text{condicionante}_N = \\text{Valor}_n \\mid \\text{Objetivo: Falso}) \\right)\n",
    "$$\n"
   ]
  },
  {
   "cell_type": "markdown",
   "metadata": {},
   "source": [
    "---\n"
   ]
  },
  {
   "cell_type": "markdown",
   "metadata": {},
   "source": [
    "- El resultado es aquella probabilidad que sea mayor "
   ]
  }
 ],
 "metadata": {
  "language_info": {
   "name": "python"
  }
 },
 "nbformat": 4,
 "nbformat_minor": 2
}
