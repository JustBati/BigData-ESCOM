{
 "cells": [
  {
   "cell_type": "markdown",
   "metadata": {},
   "source": [
    "# Regresion\n",
    "Los modelos de regresion sirven para hacer pronosticos de una variable dado por otros, donde tenemos 2 modos de funcionamiento\n",
    "- Interpolacion:\n",
    "    - Completar una tabla de datos apartir de su funcion \n",
    "- Extrapolacion\n",
    "    - Crear predicciones de datos apartir de datos existentes \n",
    "\n",
    "Donde todo tiene base en las sig ecuaciones"
   ]
  },
  {
   "cell_type": "markdown",
   "metadata": {},
   "source": [
    "$$\n",
    "b = \\frac{\\sum(x \\cdot y) - n \\cdot \\text{av}(x) \\cdot \\text{av}(y)}{\\sum(x^2) - n \\cdot \\text{av}(x^2)}\n",
    "\n",
    "$$"
   ]
  },
  {
   "cell_type": "markdown",
   "metadata": {},
   "source": [
    "$$\n",
    "a = \\text{av}(y) - b \\cdot \\text{av}(x) \n",
    "\n",
    "$$"
   ]
  },
  {
   "cell_type": "markdown",
   "metadata": {},
   "source": [
    "$$\n",
    "Y = a + bx\n",
    "$$"
   ]
  },
  {
   "cell_type": "markdown",
   "metadata": {},
   "source": [
    "Estas formulas describen una regresion *lineal por ajuste de minimos cuadrados* "
   ]
  },
  {
   "cell_type": "code",
   "execution_count": null,
   "metadata": {},
   "outputs": [],
   "source": []
  }
 ],
 "metadata": {
  "kernelspec": {
   "display_name": "base",
   "language": "python",
   "name": "python3"
  },
  "language_info": {
   "codemirror_mode": {
    "name": "ipython",
    "version": 3
   },
   "file_extension": ".py",
   "mimetype": "text/x-python",
   "name": "python",
   "nbconvert_exporter": "python",
   "pygments_lexer": "ipython3",
   "version": "3.12.3"
  }
 },
 "nbformat": 4,
 "nbformat_minor": 2
}
