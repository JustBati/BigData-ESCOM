{
 "cells": [
  {
   "cell_type": "markdown",
   "metadata": {},
   "source": [
    "# Coeficiente de correlacion\n",
    "- Va apegada en la forma, no en la distancia \n",
    "- Esta fundamentada en la forma, en los cambios dependietes\n",
    "- La forma se evalua mediante *El coeficiente de correlacion de Pearson*\n",
    "- Se evalua la correlacion entre cada uno de los posibles comparativos, aplicando la formula y despues tomando el valor de correlacion\n",
    "- Siempre da valores entre 1 y -1\n",
    "- Se utiliza el valor mas cercano a uno absoluto, dado a que es el que tiene mayor correlacion(forma), utilizando el sig modo"
   ]
  },
  {
   "cell_type": "markdown",
   "metadata": {},
   "source": [
    "\n",
    "| Limite inferior     | Limite superior      | Tipo de correlacion |\n",
    "| ------------------- | -------------------- | ------------------- |\n",
    "| +- 0.96 | +- 1 | Perfecta |\n",
    "| +- 0.85 | +- 0.95 | Fuerte |\n",
    "| +- 0.70 | +- 0.84 | Significativa |\n",
    "| +- 0.50 | +- 0.69 | Moderada |\n",
    "| +- 0.20 | +- 0.49 | Debil |\n",
    "| +- 0.10 | +- 0.19 | Muy debil |\n",
    "| 0 | +- 0.9 | Nula |"
   ]
  },
  {
   "cell_type": "markdown",
   "metadata": {},
   "source": [
    "!(Formula)[./formula.jpg]"
   ]
  },
  {
   "cell_type": "code",
   "execution_count": null,
   "metadata": {},
   "outputs": [],
   "source": []
  }
 ],
 "metadata": {
  "language_info": {
   "name": "python"
  }
 },
 "nbformat": 4,
 "nbformat_minor": 2
}
